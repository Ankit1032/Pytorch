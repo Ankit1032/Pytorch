{
 "cells": [
  {
   "cell_type": "markdown",
   "id": "2f88638d",
   "metadata": {},
   "source": [
    "#### We will be working on 4 steps\n",
    "1. Prediction - Pytorch Model\n",
    "2. Gradients Computation - Autograd\n",
    "3. Loss Computation - Pytorch loss\n",
    "4. Parameter updates - Pytorch Optimizer"
   ]
  },
  {
   "cell_type": "markdown",
   "id": "b368a07e",
   "metadata": {},
   "source": [
    "<ol>\n",
    "    <li> Design model (input, output size, forward pass)</li>\n",
    "    <li> Construct loss and optimizer</li>\n",
    "    <li> Training loop - n times iteration</li>\n",
    "    <ol>\n",
    "        <li>Forward Pass : Compute Prediction</li>\n",
    "        <li>Backward Pass : Gradients</li>\n",
    "        <li>Update weights</li>\n",
    "    </ol>\n",
    "</ol>"
   ]
  },
  {
   "cell_type": "code",
   "execution_count": 1,
   "id": "192fdb43",
   "metadata": {},
   "outputs": [],
   "source": [
    "import torch\n",
    "import torch.nn as nn"
   ]
  },
  {
   "cell_type": "code",
   "execution_count": 2,
   "id": "267fbc73",
   "metadata": {},
   "outputs": [],
   "source": [
    "# y = w * x (we are ignoring bias b for now)\n",
    "# y = 2 * x\n",
    "# S remember after training model , the w should become 2\n",
    "X = torch.tensor([[1],[2],[3],[4]], dtype=torch.float32)\n",
    "Y = torch.tensor([[2],[4],[6],[8]], dtype=torch.float32)"
   ]
  },
  {
   "cell_type": "code",
   "execution_count": 3,
   "id": "c1220dd2",
   "metadata": {},
   "outputs": [],
   "source": [
    "X_test = torch.tensor([5], dtype=torch.float32)"
   ]
  },
  {
   "cell_type": "code",
   "execution_count": 4,
   "id": "046f3fd6",
   "metadata": {},
   "outputs": [],
   "source": [
    "n_samples, n_features = X.shape"
   ]
  },
  {
   "cell_type": "code",
   "execution_count": 5,
   "id": "d5ae53cf",
   "metadata": {},
   "outputs": [
    {
     "data": {
      "text/plain": [
       "(4, 1)"
      ]
     },
     "execution_count": 5,
     "metadata": {},
     "output_type": "execute_result"
    }
   ],
   "source": [
    "n_samples, n_features"
   ]
  },
  {
   "cell_type": "markdown",
   "id": "f20e0c4d",
   "metadata": {},
   "source": [
    "#### Model Prediction"
   ]
  },
  {
   "cell_type": "code",
   "execution_count": 6,
   "id": "dfd53563",
   "metadata": {},
   "outputs": [],
   "source": [
    "input_size = n_features\n",
    "output_size = n_features\n",
    "model = nn.Linear(input_size, output_size)"
   ]
  },
  {
   "cell_type": "code",
   "execution_count": 7,
   "id": "03910cae",
   "metadata": {},
   "outputs": [
    {
     "name": "stdout",
     "output_type": "stream",
     "text": [
      "Prediction before training: f(5) = -0.233\n"
     ]
    }
   ],
   "source": [
    "print(f'Prediction before training: f(5) = {model(X_test).item():.3f}')"
   ]
  },
  {
   "cell_type": "markdown",
   "id": "b718d2bf",
   "metadata": {},
   "source": [
    "#### Training"
   ]
  },
  {
   "cell_type": "code",
   "execution_count": 8,
   "id": "3699c94a",
   "metadata": {},
   "outputs": [],
   "source": [
    "learning_rate = 0.01\n",
    "n_iters = 100\n",
    "\n",
    "# Loss\n",
    "loss = nn.MSELoss()\n",
    "optimizer = torch.optim.SGD(model.parameters(),lr=learning_rate)"
   ]
  },
  {
   "cell_type": "code",
   "execution_count": 9,
   "id": "9411b31d",
   "metadata": {},
   "outputs": [
    {
     "name": "stdout",
     "output_type": "stream",
     "text": [
      "epoch 1: w = 0.379, loss = 33.71108246\n",
      "epoch 11: w = 1.710, loss = 0.87394607\n",
      "epoch 21: w = 1.925, loss = 0.02426847\n",
      "epoch 31: w = 1.960, loss = 0.00218893\n",
      "epoch 41: w = 1.967, loss = 0.00152681\n",
      "epoch 51: w = 1.969, loss = 0.00142411\n",
      "epoch 61: w = 1.970, loss = 0.00134086\n",
      "epoch 71: w = 1.971, loss = 0.00126281\n",
      "epoch 81: w = 1.971, loss = 0.00118931\n",
      "epoch 91: w = 1.972, loss = 0.00112008\n"
     ]
    }
   ],
   "source": [
    "for epoch in range(n_iters):\n",
    "    \n",
    "    #Prediction - forward pass\n",
    "    y_pred = model (X)\n",
    "    \n",
    "    #loss\n",
    "    l = loss(Y, y_pred)\n",
    "    \n",
    "    #Gradient = backward pass\n",
    "    l.backward() # this will calculate the gradient of our loss dl/dw\n",
    "    \n",
    "    #Update weights (Formula)\n",
    "    optimizer.step()\n",
    "        \n",
    "    # Zero gradients\n",
    "    optimizer.zero_grad()\n",
    "    \n",
    "    if epoch % 10 == 0:\n",
    "        [w,b] = model.parameters()\n",
    "        print(f'epoch {epoch+1}: w = {w[0][0].item():.3f}, loss = {l:.8f}')"
   ]
  },
  {
   "cell_type": "code",
   "execution_count": 10,
   "id": "90946812",
   "metadata": {},
   "outputs": [
    {
     "name": "stdout",
     "output_type": "stream",
     "text": [
      "Prediction after training: f(5) = 9.944\n"
     ]
    }
   ],
   "source": [
    "print(f'Prediction after training: f(5) = {model(X_test).item():.3f}')"
   ]
  },
  {
   "cell_type": "code",
   "execution_count": null,
   "id": "7304b054",
   "metadata": {},
   "outputs": [],
   "source": []
  }
 ],
 "metadata": {
  "kernelspec": {
   "display_name": "Python 3 (ipykernel)",
   "language": "python",
   "name": "python3"
  },
  "language_info": {
   "codemirror_mode": {
    "name": "ipython",
    "version": 3
   },
   "file_extension": ".py",
   "mimetype": "text/x-python",
   "name": "python",
   "nbconvert_exporter": "python",
   "pygments_lexer": "ipython3",
   "version": "3.10.4"
  }
 },
 "nbformat": 4,
 "nbformat_minor": 5
}
