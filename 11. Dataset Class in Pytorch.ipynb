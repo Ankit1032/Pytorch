{
 "cells": [
  {
   "cell_type": "markdown",
   "id": "8c9958a9",
   "metadata": {},
   "source": [
    "#### Objectives\n",
    "1. Build Dataset Class\n",
    "2. Build Dataset Transform\n",
    "3. Compose Transforms"
   ]
  },
  {
   "cell_type": "code",
   "execution_count": 1,
   "id": "315c0767",
   "metadata": {},
   "outputs": [],
   "source": [
    "import torch\n",
    "from torch.utils.data import Dataset"
   ]
  },
  {
   "cell_type": "code",
   "execution_count": 2,
   "id": "727205ec",
   "metadata": {},
   "outputs": [],
   "source": [
    "class toy_set(Dataset): #toy_set is subclass of Dataset class\n",
    "    \n",
    "    def __init__(self,length=100,transform=None):\n",
    "        \n",
    "        self.x = 2*torch.ones(length,2) #independent variable\n",
    "        self.y = torch.ones(length,1) #dependent variable\n",
    "        self.len = length #no. of samples\n",
    "        self.transform = transform\n",
    "        \n",
    "    def __getitem__(self,index):\n",
    "        sample = self.x[index], self.y[index] # tensor([2,2]) , Tensor([1,1])\n",
    "        \n",
    "        if self.transform:\n",
    "            sample = self.transform(sample)\n",
    "        \n",
    "        return sample\n",
    "    \n",
    "    def __len__(self):\n",
    "        self.len\n",
    "        "
   ]
  },
  {
   "cell_type": "markdown",
   "id": "d8872be8",
   "metadata": {},
   "source": [
    "1. self.x ---> [2,2]\n",
    "2. self.y ---> [1,1]\n",
    "3. index ----> 0,1,2....98,99\n",
    "4. The dataset object behaves like a list or tuple or any python iterable --> dataset[index]\n",
    "5. __getitem__() is a magic method in Python, which when used in a class, allows its instances to use the [] (indexer) operators. Say x is an instance of this class, then x[i] is roughly equivalent to type(x).__getitem__(x, i)."
   ]
  },
  {
   "cell_type": "code",
   "execution_count": 3,
   "id": "f4fc9c64",
   "metadata": {},
   "outputs": [],
   "source": [
    "dataset = toy_set()"
   ]
  },
  {
   "cell_type": "code",
   "execution_count": 4,
   "id": "b99d6d3d",
   "metadata": {},
   "outputs": [
    {
     "name": "stdout",
     "output_type": "stream",
     "text": [
      "0)  x:tensor([2., 2.])  y:tensor([1.])\n",
      "1)  x:tensor([2., 2.])  y:tensor([1.])\n",
      "2)  x:tensor([2., 2.])  y:tensor([1.])\n"
     ]
    }
   ],
   "source": [
    "for i in range(3):\n",
    "    x,y = dataset[i]\n",
    "    print(f'{i})  x:{x}  y:{y}')"
   ]
  },
  {
   "cell_type": "code",
   "execution_count": 5,
   "id": "a0ba2942",
   "metadata": {},
   "outputs": [
    {
     "data": {
      "text/plain": [
       "(tensor([2., 2.]), tensor([1.]))"
      ]
     },
     "execution_count": 5,
     "metadata": {},
     "output_type": "execute_result"
    }
   ],
   "source": [
    "dataset.__getitem__(1)"
   ]
  },
  {
   "cell_type": "code",
   "execution_count": 6,
   "id": "03eb72c8",
   "metadata": {},
   "outputs": [
    {
     "data": {
      "text/plain": [
       "(tensor([2., 2.]), tensor([1.]))"
      ]
     },
     "execution_count": 6,
     "metadata": {},
     "output_type": "execute_result"
    }
   ],
   "source": [
    "dataset[1]"
   ]
  },
  {
   "cell_type": "markdown",
   "id": "a35f4c88",
   "metadata": {},
   "source": [
    "#### Transforms\n",
    "1. In many cases we would like to transform the data\n",
    "2. For example normalize or standardize the data\n",
    "3. Instead of writing a function, we will create callable classes\n",
    "4. The objects we create from these classes will apply transforms  to the tensors"
   ]
  },
  {
   "cell_type": "code",
   "execution_count": 7,
   "id": "50d63a96",
   "metadata": {},
   "outputs": [],
   "source": [
    "class add_mult(object):\n",
    "    def __init__(self, addx=1, muly=1):\n",
    "        self.addx = addx\n",
    "        self.muly = muly\n",
    "        \n",
    "    def __call__(self,sample):\n",
    "        x=sample[0]\n",
    "        y=sample[1]\n",
    "        x=x+self.addx\n",
    "        y=y*self.muly\n",
    "        \n",
    "        sample = x,y\n",
    "        return sample"
   ]
  },
  {
   "cell_type": "code",
   "execution_count": 8,
   "id": "b813377f",
   "metadata": {},
   "outputs": [],
   "source": [
    "#### __call__()\n",
    "# Python has a set of built-in methods and __call__ is one of them. \n",
    "#The __call__ method enables Python programmers to write classes where the instances behave like functions \n",
    "#and can be called like a function. When the instance is called as a function; \n",
    "#if this method is defined, x(arg1, arg2, ...) is a shorthand for x.__call__(arg1, arg2, ...)."
   ]
  },
  {
   "cell_type": "code",
   "execution_count": 9,
   "id": "f4eea920",
   "metadata": {},
   "outputs": [],
   "source": [
    "a_m = add_mult()\n",
    "x_, y_ = a_m(dataset[0])"
   ]
  },
  {
   "cell_type": "code",
   "execution_count": 10,
   "id": "3fd6c61e",
   "metadata": {},
   "outputs": [
    {
     "data": {
      "text/plain": [
       "(tensor([3., 3.]), tensor([1.]))"
      ]
     },
     "execution_count": 10,
     "metadata": {},
     "output_type": "execute_result"
    }
   ],
   "source": [
    "x_, y_"
   ]
  },
  {
   "cell_type": "code",
   "execution_count": 11,
   "id": "77d3a55c",
   "metadata": {},
   "outputs": [],
   "source": [
    "a_m = add_mult()\n",
    "dataset_ = toy_set(transform=a_m)"
   ]
  },
  {
   "cell_type": "code",
   "execution_count": 12,
   "id": "7fb21c0c",
   "metadata": {},
   "outputs": [
    {
     "data": {
      "text/plain": [
       "(tensor([3., 3.]), tensor([1.]))"
      ]
     },
     "execution_count": 12,
     "metadata": {},
     "output_type": "execute_result"
    }
   ],
   "source": [
    "dataset_[0]"
   ]
  },
  {
   "cell_type": "markdown",
   "id": "00bed22f",
   "metadata": {},
   "source": [
    "#### Transforms Compose"
   ]
  },
  {
   "cell_type": "code",
   "execution_count": 13,
   "id": "8270a108",
   "metadata": {},
   "outputs": [],
   "source": [
    "class mult(object):\n",
    "    def __init__(self, mul=100):\n",
    "        self.mul=mul\n",
    "        \n",
    "    def __call__(self,sample):\n",
    "        x = sample[0]\n",
    "        y = sample[1]\n",
    "        \n",
    "        x = x*self.mul\n",
    "        y = y*self.mul\n",
    "        \n",
    "        sample = x,y\n",
    "        return sample"
   ]
  },
  {
   "cell_type": "markdown",
   "id": "82f76a93",
   "metadata": {},
   "source": [
    "### Torchvision is mainly used for images"
   ]
  },
  {
   "cell_type": "code",
   "execution_count": 14,
   "id": "34969ca6",
   "metadata": {},
   "outputs": [],
   "source": [
    "from torchvision import transforms"
   ]
  },
  {
   "cell_type": "code",
   "execution_count": 15,
   "id": "9b0faff2",
   "metadata": {},
   "outputs": [],
   "source": [
    "data_transform = transforms.Compose([add_mult(), mult()])"
   ]
  },
  {
   "cell_type": "code",
   "execution_count": 16,
   "id": "620026e9",
   "metadata": {},
   "outputs": [],
   "source": [
    "x_, y_ = data_transform(dataset[0])"
   ]
  },
  {
   "cell_type": "code",
   "execution_count": 17,
   "id": "72ad6a65",
   "metadata": {},
   "outputs": [],
   "source": [
    "#### Operation flow\n",
    "# dataset[0] -----> add_mult() ----> mult() ---> Output(x_, y_)"
   ]
  },
  {
   "cell_type": "code",
   "execution_count": 18,
   "id": "80ea2f3f",
   "metadata": {},
   "outputs": [
    {
     "data": {
      "text/plain": [
       "(tensor([300., 300.]), tensor([100.]))"
      ]
     },
     "execution_count": 18,
     "metadata": {},
     "output_type": "execute_result"
    }
   ],
   "source": [
    "x_, y_"
   ]
  },
  {
   "cell_type": "code",
   "execution_count": null,
   "id": "46dd8068",
   "metadata": {},
   "outputs": [],
   "source": []
  }
 ],
 "metadata": {
  "kernelspec": {
   "display_name": "Python 3 (ipykernel)",
   "language": "python",
   "name": "python3"
  },
  "language_info": {
   "codemirror_mode": {
    "name": "ipython",
    "version": 3
   },
   "file_extension": ".py",
   "mimetype": "text/x-python",
   "name": "python",
   "nbconvert_exporter": "python",
   "pygments_lexer": "ipython3",
   "version": "3.10.4"
  }
 },
 "nbformat": 4,
 "nbformat_minor": 5
}
