{
 "cells": [
  {
   "cell_type": "markdown",
   "id": "dcf738e0",
   "metadata": {},
   "source": [
    "<ol>\n",
    "    <li> Design model (input, output size, forward pass)</li>\n",
    "    <li> Construct loss and optimizer</li>\n",
    "    <li> Training loop - n times iteration</li>\n",
    "    <ol>\n",
    "        <li>Forward Pass : Compute Prediction</li>\n",
    "        <li>Backward Pass : Gradients</li>\n",
    "        <li>Update weights</li>\n",
    "    </ol>\n",
    "</ol>"
   ]
  },
  {
   "cell_type": "code",
   "execution_count": 1,
   "id": "2fafe357",
   "metadata": {},
   "outputs": [],
   "source": [
    "import torch\n",
    "import torch.nn as nn\n",
    "import numpy as np\n",
    "from sklearn import datasets\n",
    "import matplotlib.pyplot as plt"
   ]
  },
  {
   "cell_type": "code",
   "execution_count": 2,
   "id": "a8aca24c",
   "metadata": {},
   "outputs": [],
   "source": [
    "X_numpy, y_numpy = datasets.make_regression(n_samples=100, n_features=1, noise=20, random_state=1)"
   ]
  },
  {
   "cell_type": "code",
   "execution_count": 3,
   "id": "66eb2657",
   "metadata": {},
   "outputs": [
    {
     "data": {
      "text/plain": [
       "array([[-0.61175641],\n",
       "       [-0.24937038],\n",
       "       [ 0.48851815],\n",
       "       [ 0.76201118],\n",
       "       [ 1.51981682],\n",
       "       [ 0.37756379],\n",
       "       [ 0.51292982],\n",
       "       [-0.67124613],\n",
       "       [-1.39649634],\n",
       "       [ 0.31563495],\n",
       "       [-0.63699565],\n",
       "       [-0.39675353],\n",
       "       [-1.10061918],\n",
       "       [ 0.90085595],\n",
       "       [-1.09989127],\n",
       "       [ 0.82797464],\n",
       "       [-0.07557171],\n",
       "       [-0.35224985],\n",
       "       [-0.67066229],\n",
       "       [-1.07296862],\n",
       "       [-0.30620401],\n",
       "       [ 2.18557541],\n",
       "       [ 0.86540763],\n",
       "       [ 0.19829972],\n",
       "       [-0.38405435],\n",
       "       [-0.68372786],\n",
       "       [ 0.05080775],\n",
       "       [ 0.58281521],\n",
       "       [ 1.25286816],\n",
       "       [-0.75439794],\n",
       "       [-0.34934272],\n",
       "       [-0.88762896],\n",
       "       [ 0.18656139],\n",
       "       [ 0.87616892],\n",
       "       [ 0.83898341],\n",
       "       [-0.50446586],\n",
       "       [-0.34385368],\n",
       "       [ 1.6924546 ],\n",
       "       [-2.3015387 ],\n",
       "       [ 0.93110208],\n",
       "       [ 2.10025514],\n",
       "       [ 1.46210794],\n",
       "       [-0.84520564],\n",
       "       [-0.87785842],\n",
       "       [-0.3224172 ],\n",
       "       [ 0.88514116],\n",
       "       [ 0.16003707],\n",
       "       [ 1.13162939],\n",
       "       [-0.37528495],\n",
       "       [ 0.50249434],\n",
       "       [-0.20889423],\n",
       "       [ 0.12015895],\n",
       "       [ 0.58662319],\n",
       "       [ 0.3190391 ],\n",
       "       [-0.69166075],\n",
       "       [ 0.69803203],\n",
       "       [ 1.19891788],\n",
       "       [-0.20075807],\n",
       "       [ 0.53035547],\n",
       "       [ 0.74204416],\n",
       "       [ 0.41005165],\n",
       "       [ 0.11900865],\n",
       "       [-0.7612069 ],\n",
       "       [ 0.42349435],\n",
       "       [ 0.30017032],\n",
       "       [-1.1425182 ],\n",
       "       [ 0.18515642],\n",
       "       [-0.93576943],\n",
       "       [-0.62000084],\n",
       "       [-1.11731035],\n",
       "       [-1.44411381],\n",
       "       [-0.22232814],\n",
       "       [ 1.62434536],\n",
       "       [ 0.61720311],\n",
       "       [-0.6871727 ],\n",
       "       [ 0.07734007],\n",
       "       [-0.0126646 ],\n",
       "       [-0.63873041],\n",
       "       [ 1.13376944],\n",
       "       [ 1.74481176],\n",
       "       [ 0.90159072],\n",
       "       [-2.06014071],\n",
       "       [ 0.2344157 ],\n",
       "       [-0.17242821],\n",
       "       [ 0.12182127],\n",
       "       [ 1.14472371],\n",
       "       [-0.12289023],\n",
       "       [-0.74715829],\n",
       "       [ 0.28558733],\n",
       "       [-2.02220122],\n",
       "       [ 0.23009474],\n",
       "       [-0.26788808],\n",
       "       [-0.52817175],\n",
       "       [ 1.12948391],\n",
       "       [ 0.19091548],\n",
       "       [-0.29809284],\n",
       "       [ 1.65980218],\n",
       "       [ 0.04359686],\n",
       "       [ 0.04221375],\n",
       "       [-0.19183555]])"
      ]
     },
     "execution_count": 3,
     "metadata": {},
     "output_type": "execute_result"
    }
   ],
   "source": [
    "X_numpy"
   ]
  },
  {
   "cell_type": "code",
   "execution_count": 4,
   "id": "e7ea08e9",
   "metadata": {},
   "outputs": [
    {
     "data": {
      "text/plain": [
       "tensor([-5.5539e+01, -1.0662e+01,  2.2757e+01,  1.0110e+02,  1.4434e+02,\n",
       "         3.3289e+01,  3.3015e+01, -2.5887e+01, -9.9639e+01,  2.3803e+01,\n",
       "        -4.5589e+01, -8.3388e+00, -9.5315e+01,  3.6407e+01, -8.7293e+01,\n",
       "         6.7669e+01, -1.3687e+01, -5.5441e+01, -6.5340e+01, -5.4450e+01,\n",
       "        -2.8835e+01,  1.7884e+02,  6.5084e+01,  2.6668e+01, -1.8546e+01,\n",
       "        -4.1499e+01,  8.5583e-01,  4.4562e+01,  1.1598e+02, -6.4620e+01,\n",
       "        -2.5931e+01, -6.0882e+01,  1.8720e+01,  7.5070e+01,  1.1720e+02,\n",
       "        -2.2698e+01, -5.6363e+01,  1.8084e+02, -1.9257e+02,  6.8503e+01,\n",
       "         1.6552e+02,  1.0500e+02, -7.0434e+01, -5.8769e+01, -4.1576e+01,\n",
       "         7.3247e+01,  4.0966e+01,  8.0462e+01, -2.8794e+01,  3.4234e+01,\n",
       "        -4.1715e+01,  1.4355e+01,  7.9336e+01,  2.7129e+01, -3.9487e+01,\n",
       "         6.6805e+01,  9.5531e+01,  3.5610e+00,  1.0857e-01,  5.6495e+01,\n",
       "         5.1575e+01, -2.0974e+00, -2.6656e+01,  3.9742e+01,  3.6101e+01,\n",
       "        -7.5602e+01,  1.9713e+01, -7.1601e+01, -1.9904e+01, -7.6708e+01,\n",
       "        -1.1834e+02, -2.9825e+01,  1.5108e+02,  5.2923e+01, -5.9552e+01,\n",
       "         3.0721e+01, -2.9355e+01, -4.4786e+01,  1.0006e+02,  1.5058e+02,\n",
       "         1.2200e+02, -1.8186e+02,  3.4739e+00, -2.2980e+01,  4.5184e+01,\n",
       "         9.8606e+01, -9.2779e+00, -5.2478e+01,  3.8593e+01, -1.9997e+02,\n",
       "        -9.5201e+00, -3.4724e+00, -3.5312e+01,  7.5406e+01,  1.7570e+01,\n",
       "        -2.3960e+01,  1.3209e+02,  2.0608e+01,  5.1111e+01, -2.6306e+01])"
      ]
     },
     "execution_count": 4,
     "metadata": {},
     "output_type": "execute_result"
    }
   ],
   "source": [
    "X = torch.from_numpy(X_numpy.astype(np.float32))\n",
    "y = torch.from_numpy(y_numpy.astype(np.float32))\n",
    "y"
   ]
  },
  {
   "cell_type": "code",
   "execution_count": 5,
   "id": "eabeb3a7",
   "metadata": {},
   "outputs": [],
   "source": [
    "y = y.view(y.shape[0], 1)"
   ]
  },
  {
   "cell_type": "code",
   "execution_count": 6,
   "id": "8f76de95",
   "metadata": {},
   "outputs": [],
   "source": [
    "n_samples, n_features = X.shape"
   ]
  },
  {
   "cell_type": "code",
   "execution_count": 7,
   "id": "3ba59f09",
   "metadata": {},
   "outputs": [],
   "source": [
    "#model\n",
    "input_size = n_features\n",
    "output_size = 1\n",
    "model = nn.Linear(input_size, output_size)"
   ]
  },
  {
   "cell_type": "code",
   "execution_count": 8,
   "id": "e9671c13",
   "metadata": {},
   "outputs": [],
   "source": [
    "#loss and optimizer\n",
    "learning_rate = 0.01\n",
    "criterion = nn.MSELoss()\n",
    "optimizer = torch.optim.SGD(model.parameters(), lr=learning_rate)"
   ]
  },
  {
   "cell_type": "code",
   "execution_count": 9,
   "id": "9435e0ba",
   "metadata": {},
   "outputs": [],
   "source": [
    "# Training Loop\n",
    "num_epochs = 100"
   ]
  },
  {
   "cell_type": "code",
   "execution_count": 10,
   "id": "be40cea4",
   "metadata": {},
   "outputs": [
    {
     "name": "stdout",
     "output_type": "stream",
     "text": [
      "epoch: 10, loss = 4334.6738\n",
      "epoch: 20, loss = 3235.5535\n",
      "epoch: 30, loss = 2440.1433\n",
      "epoch: 40, loss = 1863.9148\n",
      "epoch: 50, loss = 1446.0632\n",
      "epoch: 60, loss = 1142.7849\n",
      "epoch: 70, loss = 922.4810\n",
      "epoch: 80, loss = 762.3274\n",
      "epoch: 90, loss = 645.8190\n",
      "epoch: 100, loss = 561.0069\n"
     ]
    }
   ],
   "source": [
    "for epoch in range(num_epochs):\n",
    "    \n",
    "    #Forward pass and loss\n",
    "    y_pred = model(X)\n",
    "    loss = criterion(y_pred, y)\n",
    "    \n",
    "    # Backward pass\n",
    "    loss.backward()\n",
    "    \n",
    "    #update\n",
    "    optimizer.step()\n",
    "    \n",
    "    optimizer.zero_grad()\n",
    "    \n",
    "    if (epoch+1) % 10 == 0:\n",
    "        print(f'epoch: {epoch+1}, loss = {loss.item():.4f}')\n",
    "        "
   ]
  },
  {
   "cell_type": "code",
   "execution_count": 11,
   "id": "f060226c",
   "metadata": {},
   "outputs": [
    {
     "data": {
      "image/png": "[encoded data removed]",
      "text/plain": [
       "<Figure size 432x288 with 1 Axes>"
      ]
     },
     "metadata": {
      "needs_background": "light"
     },
     "output_type": "display_data"
    }
   ],
   "source": [
    "#plot\n",
    "predicted = model(X).detach().numpy()\n",
    "plt.plot(X_numpy, y_numpy, 'ro')\n",
    "plt.plot(X_numpy, predicted, 'b')\n",
    "plt.show()"
   ]
  },
  {
   "cell_type": "code",
   "execution_count": null,
   "id": "5bf95580",
   "metadata": {},
   "outputs": [],
   "source": []
  }
 ],
 "metadata": {
  "kernelspec": {
   "display_name": "Python 3 (ipykernel)",
   "language": "python",
   "name": "python3"
  },
  "language_info": {
   "codemirror_mode": {
    "name": "ipython",
    "version": 3
   },
   "file_extension": ".py",
   "mimetype": "text/x-python",
   "name": "python",
   "nbconvert_exporter": "python",
   "pygments_lexer": "ipython3",
   "version": "3.10.4"
  }
 },
 "nbformat": 4,
 "nbformat_minor": 5
}
