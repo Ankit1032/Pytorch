{
 "cells": [
  {
   "cell_type": "code",
   "execution_count": 1,
   "id": "44c84dce",
   "metadata": {},
   "outputs": [],
   "source": [
    "import torch\n",
    "import numpy as np"
   ]
  },
  {
   "cell_type": "code",
   "execution_count": 2,
   "id": "9efa843c",
   "metadata": {},
   "outputs": [
    {
     "name": "stdout",
     "output_type": "stream",
     "text": [
      "Package              Version\n",
      "-------------------- ------------\n",
      "anyio                3.5.0\n",
      "argon2-cffi          21.3.0\n",
      "argon2-cffi-bindings 21.2.0\n",
      "arrow                1.2.2\n",
      "asttokens            2.0.5\n",
      "attrs                21.4.0\n",
      "Babel                2.10.1\n",
      "backcall             0.2.0\n",
      "beautifulsoup4       4.11.1\n",
      "bleach               5.0.0\n",
      "bokeh                2.4.3\n",
      "branca               0.5.0\n",
      "certifi              2021.10.8\n",
      "cffi                 1.15.0\n",
      "charset-normalizer   2.0.12\n",
      "click                8.1.3\n",
      "colorama             0.4.4\n",
      "colorcet             3.0.0\n",
      "cx-Oracle            8.3.0\n",
      "cycler               0.11.0\n",
      "debugpy              1.6.0\n",
      "decorator            5.1.1\n",
      "defusedxml           0.7.1\n",
      "entrypoints          0.4\n",
      "et-xmlfile           1.1.0\n",
      "executing            0.8.3\n",
      "fastjsonschema       2.15.3\n",
      "filelock             3.13.3\n",
      "folium               0.12.1.post1\n",
      "fonttools            4.33.3\n",
      "fsspec               2024.3.1\n",
      "greenlet             1.1.2\n",
      "holoviews            1.14.9\n",
      "idna                 3.3\n",
      "ipykernel            6.13.0\n",
      "ipython              8.2.0\n",
      "ipython-genutils     0.2.0\n",
      "jedi                 0.18.1\n",
      "Jinja2               3.1.1\n",
      "joblib               1.1.0\n",
      "json5                0.9.6\n",
      "jsonschema           4.4.0\n",
      "jupyter-client       7.3.0\n",
      "jupyter-core         4.10.0\n",
      "jupyter-server       1.17.0\n",
      "jupyterlab           3.3.4\n",
      "jupyterlab-pygments  0.2.2\n",
      "jupyterlab-server    2.13.0\n",
      "jupyterthemes        0.20.0\n",
      "kiwisolver           1.4.3\n",
      "lesscpy              0.15.0\n",
      "Markdown             3.3.7\n",
      "MarkupSafe           2.1.1\n",
      "matplotlib           3.5.2\n",
      "matplotlib-inline    0.1.3\n",
      "mistune              0.8.4\n",
      "mpmath               1.3.0\n",
      "nbclassic            0.3.7\n",
      "nbclient             0.6.0\n",
      "nbconvert            6.5.0\n",
      "nbformat             5.3.0\n",
      "nest-asyncio         1.5.5\n",
      "networkx             3.2.1\n",
      "nltk                 3.8.1\n",
      "notebook             6.4.12\n",
      "notebook-shim        0.1.0\n",
      "numpy                1.23.0\n",
      "openpyxl             3.0.10\n",
      "packaging            21.3\n",
      "pandas               1.4.3\n",
      "pandocfilters        1.5.0\n",
      "panel                0.13.1\n",
      "param                1.12.2\n",
      "parso                0.8.3\n",
      "patsy                0.5.5\n",
      "pickleshare          0.7.5\n",
      "Pillow               9.1.1\n",
      "pip                  24.0\n",
      "plotly               5.9.0\n",
      "ply                  3.11\n",
      "prometheus-client    0.14.1\n",
      "prompt-toolkit       3.0.29\n",
      "psutil               5.9.0\n",
      "pure-eval            0.2.2\n",
      "pycparser            2.21\n",
      "pyct                 0.4.8\n",
      "Pygments             2.12.0\n",
      "pyparsing            3.0.8\n",
      "pyproj               3.3.1\n",
      "pyrsistent           0.18.1\n",
      "python-dateutil      2.8.2\n",
      "pytz                 2022.1\n",
      "pyviz-comms          2.2.0\n",
      "pywin32              303\n",
      "pywinpty             2.0.5\n",
      "PyYAML               6.0\n",
      "pyzmq                22.3.0\n",
      "regex                2023.12.25\n",
      "requests             2.27.1\n",
      "scikit-learn         1.1.1\n",
      "scipy                1.8.1\n",
      "seaborn              0.11.2\n",
      "Send2Trash           1.8.0\n",
      "setuptools           58.1.0\n",
      "six                  1.16.0\n",
      "sniffio              1.2.0\n",
      "soupsieve            2.3.2.post1\n",
      "SQLAlchemy           1.4.39\n",
      "stack-data           0.2.0\n",
      "statsmodels          0.14.1\n",
      "sympy                1.12\n",
      "tenacity             8.0.1\n",
      "terminado            0.13.3\n",
      "threadpoolctl        3.1.0\n",
      "tinycss2             1.1.1\n",
      "torch                2.2.2+cu121\n",
      "torchaudio           2.2.2+cu121\n",
      "torchvision          0.17.2+cu121\n",
      "tornado              6.1\n",
      "tqdm                 4.64.0\n",
      "traitlets            5.1.1\n",
      "typing_extensions    4.10.0\n",
      "urllib3              1.26.9\n",
      "wcwidth              0.2.5\n",
      "webencodings         0.5.1\n",
      "websocket-client     1.3.2\n",
      "xlrd                 2.0.1\n"
     ]
    }
   ],
   "source": [
    "!pip list"
   ]
  },
  {
   "cell_type": "markdown",
   "id": "83b1b914",
   "metadata": {},
   "source": [
    "## Tensors"
   ]
  },
  {
   "cell_type": "markdown",
   "id": "9edbf437",
   "metadata": {},
   "source": [
    "<ul>\n",
    "    <li>A torch.Tensor is a multi-dimentional matrix containing the elements of a single data type</li>\n",
    "    <li>Similar to Numpy Arrays, but full of fun things that make them work better on GPU's (vs regular CPU's)</li>\n",
    "    <li>Default datatype is flaot32</li>\n",
    "    <li>More suitable for Deep Learning</li>\n",
    " </ul>"
   ]
  },
  {
   "cell_type": "markdown",
   "id": "499ba225",
   "metadata": {},
   "source": [
    "### Lists"
   ]
  },
  {
   "cell_type": "code",
   "execution_count": 3,
   "id": "53c73bae",
   "metadata": {},
   "outputs": [
    {
     "data": {
      "text/plain": [
       "[[1, 2, 3, 4, 5], [22, 34, 56, 78, 12]]"
      ]
     },
     "execution_count": 3,
     "metadata": {},
     "output_type": "execute_result"
    }
   ],
   "source": [
    "my_list = [[1,2,3,4,5],[22,34,56,78,12]]\n",
    "my_list"
   ]
  },
  {
   "cell_type": "markdown",
   "id": "17ed41f7",
   "metadata": {},
   "source": [
    "### Numpy Arrays"
   ]
  },
  {
   "cell_type": "code",
   "execution_count": 4,
   "id": "c3e87e1a",
   "metadata": {},
   "outputs": [],
   "source": [
    "np1 = np.random.rand(3,4)"
   ]
  },
  {
   "cell_type": "code",
   "execution_count": 5,
   "id": "ccd5e148",
   "metadata": {},
   "outputs": [
    {
     "data": {
      "text/plain": [
       "array([[0.49183756, 0.68812339, 0.62154985, 0.61656703],\n",
       "       [0.61873115, 0.60672105, 0.82994383, 0.19961875],\n",
       "       [0.01663999, 0.31460234, 0.37290144, 0.64221149]])"
      ]
     },
     "execution_count": 5,
     "metadata": {},
     "output_type": "execute_result"
    }
   ],
   "source": [
    "np1"
   ]
  },
  {
   "cell_type": "code",
   "execution_count": 6,
   "id": "9993c943",
   "metadata": {},
   "outputs": [
    {
     "data": {
      "text/plain": [
       "dtype('float64')"
      ]
     },
     "execution_count": 6,
     "metadata": {},
     "output_type": "execute_result"
    }
   ],
   "source": [
    "np1.dtype"
   ]
  },
  {
   "cell_type": "markdown",
   "id": "b6d57189",
   "metadata": {},
   "source": [
    "### Tensors"
   ]
  },
  {
   "cell_type": "code",
   "execution_count": 7,
   "id": "728728c7",
   "metadata": {},
   "outputs": [
    {
     "data": {
      "text/plain": [
       "tensor([[-0.0596,  0.7704, -1.0503,  0.5291],\n",
       "        [ 0.1136, -0.4254,  0.0331,  1.1924],\n",
       "        [-0.7842,  0.2248,  0.1476, -0.6204]])"
      ]
     },
     "execution_count": 7,
     "metadata": {},
     "output_type": "execute_result"
    }
   ],
   "source": [
    "tensor_2d = torch.randn(3,4)\n",
    "tensor_2d"
   ]
  },
  {
   "cell_type": "code",
   "execution_count": 8,
   "id": "4310fce2",
   "metadata": {},
   "outputs": [
    {
     "data": {
      "text/plain": [
       "tensor([[[0., 0., 0., 0.],\n",
       "         [0., 0., 0., 0.],\n",
       "         [0., 0., 0., 0.]],\n",
       "\n",
       "        [[0., 0., 0., 0.],\n",
       "         [0., 0., 0., 0.],\n",
       "         [0., 0., 0., 0.]]])"
      ]
     },
     "execution_count": 8,
     "metadata": {},
     "output_type": "execute_result"
    }
   ],
   "source": [
    "tensor_3d = torch.zeros(2,3,4)\n",
    "tensor_3d"
   ]
  },
  {
   "cell_type": "code",
   "execution_count": 9,
   "id": "dfad4bb4",
   "metadata": {},
   "outputs": [
    {
     "data": {
      "text/plain": [
       "tensor([[0.4918, 0.6881, 0.6215, 0.6166],\n",
       "        [0.6187, 0.6067, 0.8299, 0.1996],\n",
       "        [0.0166, 0.3146, 0.3729, 0.6422]], dtype=torch.float64)"
      ]
     },
     "execution_count": 9,
     "metadata": {},
     "output_type": "execute_result"
    }
   ],
   "source": [
    "## create tensor out of numpy\n",
    "my_tensor = torch.tensor(np1)\n",
    "my_tensor"
   ]
  },
  {
   "cell_type": "markdown",
   "id": "b380a4db",
   "metadata": {},
   "source": [
    "#### Another way to make tensor out of numpy array"
   ]
  },
  {
   "cell_type": "code",
   "execution_count": 10,
   "id": "0ee065bf",
   "metadata": {},
   "outputs": [
    {
     "data": {
      "text/plain": [
       "tensor([[1, 2],\n",
       "        [3, 4]], dtype=torch.int32)"
      ]
     },
     "execution_count": 10,
     "metadata": {},
     "output_type": "execute_result"
    }
   ],
   "source": [
    "data = [[1, 2],[3, 4]]\n",
    "np_array = np.array(data)\n",
    "x_np = torch.from_numpy(np_array)\n",
    "x_np"
   ]
  },
  {
   "cell_type": "markdown",
   "id": "491f51f2",
   "metadata": {},
   "source": [
    "### Directly from data"
   ]
  },
  {
   "cell_type": "code",
   "execution_count": 11,
   "id": "9be7573d",
   "metadata": {},
   "outputs": [],
   "source": [
    "data = [[1, 2],[3, 4]]\n",
    "x_data = torch.tensor(data)"
   ]
  },
  {
   "cell_type": "markdown",
   "id": "9e16d856",
   "metadata": {},
   "source": [
    "### Attributes of tensor"
   ]
  },
  {
   "cell_type": "code",
   "execution_count": 12,
   "id": "0e937806",
   "metadata": {},
   "outputs": [],
   "source": [
    "tensor = torch.rand(3,4)"
   ]
  },
  {
   "cell_type": "code",
   "execution_count": 13,
   "id": "6a77860f",
   "metadata": {},
   "outputs": [
    {
     "name": "stdout",
     "output_type": "stream",
     "text": [
      "Shape of tensor: torch.Size([3, 4])\n",
      "Datatype of tensor: torch.float32\n",
      "Device tensoris stored on: cpu\n"
     ]
    }
   ],
   "source": [
    "print(f\"Shape of tensor: {tensor.shape}\")\n",
    "print(f\"Datatype of tensor: {tensor.dtype}\")\n",
    "print(f\"Device tensoris stored on: {tensor.device}\")"
   ]
  },
  {
   "cell_type": "code",
   "execution_count": 14,
   "id": "a55d9245",
   "metadata": {},
   "outputs": [
    {
     "name": "stdout",
     "output_type": "stream",
     "text": [
      "Device tensor is stored on: cuda:0\n"
     ]
    }
   ],
   "source": [
    "# We move our tensor to the GPU if available\n",
    "if torch.cuda.is_available():\n",
    "    tensor = tensor.to(\"cuda\")\n",
    "    print(f\"Device tensor is stored on: {tensor.device}\")"
   ]
  },
  {
   "cell_type": "markdown",
   "id": "caa19abd",
   "metadata": {},
   "source": [
    "### Tensor to Numpy"
   ]
  },
  {
   "cell_type": "code",
   "execution_count": 15,
   "id": "38e3ef74",
   "metadata": {},
   "outputs": [
    {
     "name": "stdout",
     "output_type": "stream",
     "text": [
      "t: tensor([1., 1., 1., 1., 1.])\n",
      "n: [1. 1. 1. 1. 1.]\n"
     ]
    }
   ],
   "source": [
    "t = torch.ones(5)\n",
    "print(f\"t: {t}\")\n",
    "n = t.numpy()\n",
    "print(f\"n: {n}\")"
   ]
  },
  {
   "cell_type": "markdown",
   "id": "5c4b3db7",
   "metadata": {},
   "source": [
    "#### A change in the tensor reflects in the NumPy array."
   ]
  },
  {
   "cell_type": "code",
   "execution_count": 16,
   "id": "d65ee97f",
   "metadata": {},
   "outputs": [
    {
     "name": "stdout",
     "output_type": "stream",
     "text": [
      "t: tensor([7., 7., 7., 7., 7.])\n",
      "n: [7. 7. 7. 7. 7.]\n"
     ]
    }
   ],
   "source": [
    "t.add_(6)\n",
    "print(f\"t: {t}\")\n",
    "print(f\"n: {n}\")"
   ]
  },
  {
   "cell_type": "markdown",
   "id": "ac7578ba",
   "metadata": {},
   "source": [
    "### Standard numpy-like indexing and slicing:"
   ]
  },
  {
   "cell_type": "code",
   "execution_count": 17,
   "id": "d2ff05ab",
   "metadata": {},
   "outputs": [
    {
     "name": "stdout",
     "output_type": "stream",
     "text": [
      "First Row: tensor([1., 1., 1., 1.])\n",
      "First Column: tensor([1., 1., 1., 1.])\n",
      "First Column: tensor([1., 1., 1., 1.])\n",
      "tensor([[1., 0., 1., 1.],\n",
      "        [1., 0., 1., 1.],\n",
      "        [1., 0., 1., 1.],\n",
      "        [1., 0., 1., 1.]])\n"
     ]
    }
   ],
   "source": [
    "tensor = torch.ones(4,4)\n",
    "print(f\"First Row: {tensor[0]}\")\n",
    "print(f\"First Column: {tensor[:,0]}\")\n",
    "print(f\"First Column: {tensor[:,-1]}\")\n",
    "tensor[:,1]=0\n",
    "print(tensor)"
   ]
  },
  {
   "cell_type": "markdown",
   "id": "1312d4b2",
   "metadata": {},
   "source": [
    "<h3>Joining tensors</h3>\n",
    "<p>You can use <b><i>torch.cat</i></b> to concatenate a sequence of tensors along a given dimension.</p>"
   ]
  },
  {
   "cell_type": "code",
   "execution_count": 18,
   "id": "88dd54e0",
   "metadata": {},
   "outputs": [
    {
     "name": "stdout",
     "output_type": "stream",
     "text": [
      "tensor([[1., 0., 1., 1., 1., 0., 1., 1., 1., 0., 1., 1.],\n",
      "        [1., 0., 1., 1., 1., 0., 1., 1., 1., 0., 1., 1.],\n",
      "        [1., 0., 1., 1., 1., 0., 1., 1., 1., 0., 1., 1.],\n",
      "        [1., 0., 1., 1., 1., 0., 1., 1., 1., 0., 1., 1.]])\n"
     ]
    }
   ],
   "source": [
    "t1 = torch.cat([tensor,tensor,tensor], dim=1)\n",
    "print(t1)"
   ]
  },
  {
   "cell_type": "markdown",
   "id": "d681731b",
   "metadata": {},
   "source": [
    "#### torch.stack"
   ]
  },
  {
   "cell_type": "code",
   "execution_count": 19,
   "id": "9490eb6f",
   "metadata": {},
   "outputs": [
    {
     "name": "stdout",
     "output_type": "stream",
     "text": [
      "tensor([[[1., 0., 1., 1.],\n",
      "         [1., 0., 1., 1.],\n",
      "         [1., 0., 1., 1.]],\n",
      "\n",
      "        [[1., 0., 1., 1.],\n",
      "         [1., 0., 1., 1.],\n",
      "         [1., 0., 1., 1.]],\n",
      "\n",
      "        [[1., 0., 1., 1.],\n",
      "         [1., 0., 1., 1.],\n",
      "         [1., 0., 1., 1.]],\n",
      "\n",
      "        [[1., 0., 1., 1.],\n",
      "         [1., 0., 1., 1.],\n",
      "         [1., 0., 1., 1.]]])\n"
     ]
    }
   ],
   "source": [
    "t1 = torch.stack([tensor,tensor,tensor], dim=1)\n",
    "print(t1)"
   ]
  },
  {
   "cell_type": "markdown",
   "id": "3b7e081b",
   "metadata": {},
   "source": [
    "### Arithmetic operations"
   ]
  },
  {
   "cell_type": "markdown",
   "id": "4305ec25",
   "metadata": {},
   "source": [
    "#### Matrix Multiplication"
   ]
  },
  {
   "cell_type": "code",
   "execution_count": 20,
   "id": "7d09e2df",
   "metadata": {},
   "outputs": [
    {
     "data": {
      "text/plain": [
       "tensor([[3., 3., 3., 3.],\n",
       "        [3., 3., 3., 3.],\n",
       "        [3., 3., 3., 3.],\n",
       "        [3., 3., 3., 3.]])"
      ]
     },
     "execution_count": 20,
     "metadata": {},
     "output_type": "execute_result"
    }
   ],
   "source": [
    "# ``tensor.T`` returns the transpose of a tensor\n",
    "y1 = tensor @ tensor.T\n",
    "y2 = tensor.matmul(tensor.T)\n",
    "y2"
   ]
  },
  {
   "cell_type": "code",
   "execution_count": 21,
   "id": "f3d332c9",
   "metadata": {},
   "outputs": [
    {
     "data": {
      "text/plain": [
       "tensor([[3., 3., 3., 3.],\n",
       "        [3., 3., 3., 3.],\n",
       "        [3., 3., 3., 3.],\n",
       "        [3., 3., 3., 3.]])"
      ]
     },
     "execution_count": 21,
     "metadata": {},
     "output_type": "execute_result"
    }
   ],
   "source": [
    "y3 = torch.rand_like(y1)\n",
    "torch.matmul(tensor,tensor.T,out=y3)"
   ]
  },
  {
   "cell_type": "code",
   "execution_count": 22,
   "id": "5e107b87",
   "metadata": {},
   "outputs": [
    {
     "data": {
      "text/plain": [
       "tensor([[3., 3., 3., 3.],\n",
       "        [3., 3., 3., 3.],\n",
       "        [3., 3., 3., 3.],\n",
       "        [3., 3., 3., 3.]])"
      ]
     },
     "execution_count": 22,
     "metadata": {},
     "output_type": "execute_result"
    }
   ],
   "source": [
    "y3"
   ]
  },
  {
   "cell_type": "markdown",
   "id": "bf171132",
   "metadata": {},
   "source": [
    "#### Element-wise multiplication"
   ]
  },
  {
   "cell_type": "code",
   "execution_count": 23,
   "id": "864835a1",
   "metadata": {},
   "outputs": [
    {
     "data": {
      "text/plain": [
       "tensor([[1., 0., 1., 1.],\n",
       "        [1., 0., 1., 1.],\n",
       "        [1., 0., 1., 1.],\n",
       "        [1., 0., 1., 1.]])"
      ]
     },
     "execution_count": 23,
     "metadata": {},
     "output_type": "execute_result"
    }
   ],
   "source": [
    "# This computes the element-wise product. z1, z2, z3 will have the same value\n",
    "z1 = tensor * tensor\n",
    "z2 = tensor.mul(tensor)\n",
    "z2"
   ]
  },
  {
   "cell_type": "code",
   "execution_count": 24,
   "id": "47ef086d",
   "metadata": {},
   "outputs": [
    {
     "data": {
      "text/plain": [
       "tensor([[1., 0., 1., 1.],\n",
       "        [1., 0., 1., 1.],\n",
       "        [1., 0., 1., 1.],\n",
       "        [1., 0., 1., 1.]])"
      ]
     },
     "execution_count": 24,
     "metadata": {},
     "output_type": "execute_result"
    }
   ],
   "source": [
    "tensor"
   ]
  },
  {
   "cell_type": "markdown",
   "id": "40269ad5",
   "metadata": {},
   "source": [
    "#### Single-element tensors If you have a one-element tensor, for example by aggregating all values of a tensor into one value, you can convert it to a Python numerical value using item():"
   ]
  },
  {
   "cell_type": "code",
   "execution_count": 25,
   "id": "c1c43047",
   "metadata": {},
   "outputs": [
    {
     "data": {
      "text/plain": [
       "tensor(12.)"
      ]
     },
     "execution_count": 25,
     "metadata": {},
     "output_type": "execute_result"
    }
   ],
   "source": [
    "agg = tensor.sum()\n",
    "agg"
   ]
  },
  {
   "cell_type": "code",
   "execution_count": 26,
   "id": "97dcb755",
   "metadata": {},
   "outputs": [
    {
     "data": {
      "text/plain": [
       "12.0"
      ]
     },
     "execution_count": 26,
     "metadata": {},
     "output_type": "execute_result"
    }
   ],
   "source": [
    "agg_item = agg.item()\n",
    "agg_item"
   ]
  },
  {
   "cell_type": "markdown",
   "id": "40d84d65",
   "metadata": {},
   "source": [
    "#### In-place operations: Operations that store the result into the operand are called in-place. They are denoted by a _ suffix. For example: x.copy_(y), x.t_(), will change x."
   ]
  },
  {
   "cell_type": "code",
   "execution_count": 27,
   "id": "88284196",
   "metadata": {},
   "outputs": [
    {
     "name": "stdout",
     "output_type": "stream",
     "text": [
      "tensor([[1., 0., 1., 1.],\n",
      "        [1., 0., 1., 1.],\n",
      "        [1., 0., 1., 1.],\n",
      "        [1., 0., 1., 1.]]) \n",
      "\n",
      "tensor([[6., 5., 6., 6.],\n",
      "        [6., 5., 6., 6.],\n",
      "        [6., 5., 6., 6.],\n",
      "        [6., 5., 6., 6.]])\n"
     ]
    }
   ],
   "source": [
    "print(f\"{tensor} \\n\")\n",
    "tensor.add_(5)\n",
    "print(tensor)"
   ]
  },
  {
   "cell_type": "code",
   "execution_count": 28,
   "id": "2e4b79a4",
   "metadata": {},
   "outputs": [
    {
     "data": {
      "text/plain": [
       "tensor([0, 1, 2, 3, 4, 5, 6, 7, 8, 9])"
      ]
     },
     "execution_count": 28,
     "metadata": {},
     "output_type": "execute_result"
    }
   ],
   "source": [
    "my_torch = torch.arange(10)\n",
    "my_torch"
   ]
  },
  {
   "cell_type": "markdown",
   "id": "b2c392a1",
   "metadata": {},
   "source": [
    "#### RESHAPE"
   ]
  },
  {
   "cell_type": "code",
   "execution_count": 29,
   "id": "861d30d4",
   "metadata": {},
   "outputs": [
    {
     "data": {
      "text/plain": [
       "tensor([[0, 1, 2, 3, 4],\n",
       "        [5, 6, 7, 8, 9]])"
      ]
     },
     "execution_count": 29,
     "metadata": {},
     "output_type": "execute_result"
    }
   ],
   "source": [
    "my_torch = my_torch.reshape(2,5)\n",
    "my_torch"
   ]
  },
  {
   "cell_type": "code",
   "execution_count": 30,
   "id": "9c15d2df",
   "metadata": {},
   "outputs": [
    {
     "data": {
      "text/plain": [
       "tensor([[ 0,  1,  2,  3,  4,  5,  6,  7,  8,  9],\n",
       "        [10, 11, 12, 13, 14, 15, 16, 17, 18, 19]])"
      ]
     },
     "execution_count": 30,
     "metadata": {},
     "output_type": "execute_result"
    }
   ],
   "source": [
    "#### Reshape if we don't know the number of items using -1\n",
    "my_torch2 = torch.arange(20)\n",
    "my_torch2 = my_torch2.reshape(2,-1)\n",
    "my_torch2"
   ]
  },
  {
   "cell_type": "markdown",
   "id": "4406e7ed",
   "metadata": {},
   "source": [
    "### VIEW (Similar to  Reshape)"
   ]
  },
  {
   "cell_type": "code",
   "execution_count": 31,
   "id": "77a5108d",
   "metadata": {},
   "outputs": [
    {
     "data": {
      "text/plain": [
       "tensor([[ 0,  1,  2,  3,  4,  5,  6,  7,  8,  9],\n",
       "        [10, 11, 12, 13, 14, 15, 16, 17, 18, 19]])"
      ]
     },
     "execution_count": 31,
     "metadata": {},
     "output_type": "execute_result"
    }
   ],
   "source": [
    "my_torch3 = torch.arange(20)\n",
    "my_torch3 = my_torch3.reshape(2,-1)\n",
    "my_torch3"
   ]
  },
  {
   "cell_type": "markdown",
   "id": "2b9f577a",
   "metadata": {},
   "source": [
    "#### Assignment Operator"
   ]
  },
  {
   "cell_type": "code",
   "execution_count": 32,
   "id": "cb547720",
   "metadata": {},
   "outputs": [
    {
     "data": {
      "text/plain": [
       "tensor([[   0, 9191,    2,    3,    4,    5,    6,    7,    8,    9],\n",
       "        [  10,   11,   12,   13,   14,   15,   16,   17,   18,   19]])"
      ]
     },
     "execution_count": 32,
     "metadata": {},
     "output_type": "execute_result"
    }
   ],
   "source": [
    "my_torch3[0][1] = 9191\n",
    "my_torch3"
   ]
  },
  {
   "cell_type": "markdown",
   "id": "2c6cbd53",
   "metadata": {},
   "source": [
    "#### Slicing"
   ]
  },
  {
   "cell_type": "code",
   "execution_count": 33,
   "id": "e53184ac",
   "metadata": {},
   "outputs": [
    {
     "data": {
      "text/plain": [
       "tensor([[10, 11, 12, 13, 14, 15, 16, 17, 18, 19]])"
      ]
     },
     "execution_count": 33,
     "metadata": {},
     "output_type": "execute_result"
    }
   ],
   "source": [
    "my_torch3[1:4]"
   ]
  },
  {
   "cell_type": "code",
   "execution_count": 34,
   "id": "a6fda49d",
   "metadata": {},
   "outputs": [
    {
     "data": {
      "text/plain": [
       "tensor([[   0, 9191],\n",
       "        [   2,    3],\n",
       "        [   4,    5],\n",
       "        [   6,    7],\n",
       "        [   8,    9],\n",
       "        [  10,   11],\n",
       "        [  12,   13],\n",
       "        [  14,   15],\n",
       "        [  16,   17],\n",
       "        [  18,   19]])"
      ]
     },
     "execution_count": 34,
     "metadata": {},
     "output_type": "execute_result"
    }
   ],
   "source": [
    "my_torch3 = my_torch3.reshape(-1,2)\n",
    "my_torch3"
   ]
  },
  {
   "cell_type": "code",
   "execution_count": 35,
   "id": "6bcf4464",
   "metadata": {},
   "outputs": [
    {
     "data": {
      "text/plain": [
       "tensor([9191,    3,    5,    7,    9,   11,   13,   15,   17,   19])"
      ]
     },
     "execution_count": 35,
     "metadata": {},
     "output_type": "execute_result"
    }
   ],
   "source": [
    "my_torch3[:,1]"
   ]
  },
  {
   "cell_type": "code",
   "execution_count": 36,
   "id": "c3a367ba",
   "metadata": {},
   "outputs": [
    {
     "data": {
      "text/plain": [
       "tensor([[9191],\n",
       "        [   3],\n",
       "        [   5],\n",
       "        [   7],\n",
       "        [   9],\n",
       "        [  11],\n",
       "        [  13],\n",
       "        [  15],\n",
       "        [  17],\n",
       "        [  19]])"
      ]
     },
     "execution_count": 36,
     "metadata": {},
     "output_type": "execute_result"
    }
   ],
   "source": [
    "# Return column\n",
    "my_torch3[:,1:]"
   ]
  },
  {
   "cell_type": "markdown",
   "id": "3fa0759e",
   "metadata": {},
   "source": [
    "### Tensor addition"
   ]
  },
  {
   "cell_type": "code",
   "execution_count": 39,
   "id": "66b11ccb",
   "metadata": {},
   "outputs": [
    {
     "data": {
      "text/plain": [
       "tensor([ 4,  6,  8, 10])"
      ]
     },
     "execution_count": 39,
     "metadata": {},
     "output_type": "execute_result"
    }
   ],
   "source": [
    "tensor_a = torch.tensor([1,4,3,2])\n",
    "tensor_b = torch.tensor([3,2,5,8])\n",
    "tensor_a+tensor_b"
   ]
  },
  {
   "cell_type": "code",
   "execution_count": 40,
   "id": "dbc6cb96",
   "metadata": {},
   "outputs": [
    {
     "data": {
      "text/plain": [
       "tensor([ 4,  6,  8, 10])"
      ]
     },
     "execution_count": 40,
     "metadata": {},
     "output_type": "execute_result"
    }
   ],
   "source": [
    "torch.add(tensor_a,tensor_b)"
   ]
  },
  {
   "cell_type": "markdown",
   "id": "276b4f81",
   "metadata": {},
   "source": [
    "### Tensor Substraction"
   ]
  },
  {
   "cell_type": "code",
   "execution_count": 41,
   "id": "25c7c5eb",
   "metadata": {},
   "outputs": [
    {
     "data": {
      "text/plain": [
       "tensor([-2,  2, -2, -6])"
      ]
     },
     "execution_count": 41,
     "metadata": {},
     "output_type": "execute_result"
    }
   ],
   "source": [
    "tensor_a-tensor_b"
   ]
  },
  {
   "cell_type": "code",
   "execution_count": 42,
   "id": "b0c233d4",
   "metadata": {},
   "outputs": [
    {
     "data": {
      "text/plain": [
       "tensor([-2,  2, -2, -6])"
      ]
     },
     "execution_count": 42,
     "metadata": {},
     "output_type": "execute_result"
    }
   ],
   "source": [
    "torch.sub(tensor_a,tensor_b)"
   ]
  },
  {
   "cell_type": "markdown",
   "id": "5e83b843",
   "metadata": {},
   "source": [
    "### Tensor Multiplication(Its not matrix multiplication or dot product)"
   ]
  },
  {
   "cell_type": "code",
   "execution_count": 44,
   "id": "36f2f72a",
   "metadata": {},
   "outputs": [
    {
     "data": {
      "text/plain": [
       "tensor([ 3,  8, 15, 16])"
      ]
     },
     "execution_count": 44,
     "metadata": {},
     "output_type": "execute_result"
    }
   ],
   "source": [
    "tensor_a*tensor_b"
   ]
  },
  {
   "cell_type": "code",
   "execution_count": 45,
   "id": "2eaf730d",
   "metadata": {},
   "outputs": [
    {
     "data": {
      "text/plain": [
       "tensor([ 3,  8, 15, 16])"
      ]
     },
     "execution_count": 45,
     "metadata": {},
     "output_type": "execute_result"
    }
   ],
   "source": [
    "torch.mul(tensor_a,tensor_b)"
   ]
  },
  {
   "cell_type": "markdown",
   "id": "1b3b79a3",
   "metadata": {},
   "source": [
    "### Tensor Division"
   ]
  },
  {
   "cell_type": "code",
   "execution_count": 46,
   "id": "e242f56f",
   "metadata": {},
   "outputs": [
    {
     "data": {
      "text/plain": [
       "tensor([0.3333, 2.0000, 0.6000, 0.2500])"
      ]
     },
     "execution_count": 46,
     "metadata": {},
     "output_type": "execute_result"
    }
   ],
   "source": [
    "tensor_a / tensor_b"
   ]
  },
  {
   "cell_type": "code",
   "execution_count": 47,
   "id": "95b1500e",
   "metadata": {},
   "outputs": [
    {
     "data": {
      "text/plain": [
       "tensor([0.3333, 2.0000, 0.6000, 0.2500])"
      ]
     },
     "execution_count": 47,
     "metadata": {},
     "output_type": "execute_result"
    }
   ],
   "source": [
    "torch.div(tensor_a,tensor_b)"
   ]
  },
  {
   "cell_type": "markdown",
   "id": "e3bbdb2e",
   "metadata": {},
   "source": [
    "### Tensor Modulus(Remainder)"
   ]
  },
  {
   "cell_type": "code",
   "execution_count": 49,
   "id": "4720945d",
   "metadata": {},
   "outputs": [
    {
     "data": {
      "text/plain": [
       "tensor([1, 0, 3, 2])"
      ]
     },
     "execution_count": 49,
     "metadata": {},
     "output_type": "execute_result"
    }
   ],
   "source": [
    "tensor_a % tensor_b"
   ]
  },
  {
   "cell_type": "code",
   "execution_count": 51,
   "id": "d3924194",
   "metadata": {},
   "outputs": [
    {
     "data": {
      "text/plain": [
       "tensor([1, 0, 3, 2])"
      ]
     },
     "execution_count": 51,
     "metadata": {},
     "output_type": "execute_result"
    }
   ],
   "source": [
    "torch.remainder(tensor_a,tensor_b)"
   ]
  },
  {
   "cell_type": "markdown",
   "id": "90b4329c",
   "metadata": {},
   "source": [
    "### Tensor Exponents/Power"
   ]
  },
  {
   "cell_type": "code",
   "execution_count": 53,
   "id": "703717f7",
   "metadata": {},
   "outputs": [
    {
     "data": {
      "text/plain": [
       "tensor([  1,  16, 243, 256])"
      ]
     },
     "execution_count": 53,
     "metadata": {},
     "output_type": "execute_result"
    }
   ],
   "source": [
    "torch.pow(tensor_a,tensor_b)"
   ]
  },
  {
   "cell_type": "code",
   "execution_count": null,
   "id": "b216d8f6",
   "metadata": {},
   "outputs": [],
   "source": []
  },
  {
   "cell_type": "code",
   "execution_count": null,
   "id": "fd3d31c7",
   "metadata": {},
   "outputs": [],
   "source": []
  },
  {
   "cell_type": "code",
   "execution_count": null,
   "id": "83f0220f",
   "metadata": {},
   "outputs": [],
   "source": []
  }
 ],
 "metadata": {
  "kernelspec": {
   "display_name": "Python 3 (ipykernel)",
   "language": "python",
   "name": "python3"
  },
  "language_info": {
   "codemirror_mode": {
    "name": "ipython",
    "version": 3
   },
   "file_extension": ".py",
   "mimetype": "text/x-python",
   "name": "python",
   "nbconvert_exporter": "python",
   "pygments_lexer": "ipython3",
   "version": "3.10.4"
  }
 },
 "nbformat": 4,
 "nbformat_minor": 5
}
